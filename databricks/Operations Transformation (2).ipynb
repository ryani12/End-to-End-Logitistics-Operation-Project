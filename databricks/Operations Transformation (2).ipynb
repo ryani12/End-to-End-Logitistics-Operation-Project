{
 "cells": [
  {
   "cell_type": "code",
   "execution_count": 0,
   "metadata": {
    "application/vnd.databricks.v1+cell": {
     "cellMetadata": {
      "byteLimit": 2048000,
      "rowLimit": 10000
     },
     "inputWidgets": {},
     "nuid": "93511b36-bddb-4181-a30f-67a1ce25f031",
     "showTitle": false,
     "title": ""
    }
   },
   "outputs": [],
   "source": [
    "from pyspark.sql.functions import col, count, when"
   ]
  },
  {
   "cell_type": "code",
   "execution_count": 0,
   "metadata": {
    "application/vnd.databricks.v1+cell": {
     "cellMetadata": {
      "byteLimit": 2048000,
      "rowLimit": 10000
     },
     "inputWidgets": {},
     "nuid": "510f4079-7e6f-40d2-a5e2-68917daf8c0e",
     "showTitle": false,
     "title": ""
    }
   },
   "outputs": [
    {
     "output_type": "stream",
     "name": "stdout",
     "output_type": "stream",
     "text": [
      "/mnt/operations has been unmounted.\n"
     ]
    },
    {
     "output_type": "execute_result",
     "data": {
      "text/plain": [
       "True"
      ]
     },
     "execution_count": 10,
     "metadata": {},
     "output_type": "execute_result"
    }
   ],
   "source": [
    "try:\n",
    "    dbutils.fs.unmount(\"/mnt/operations\")\n",
    "except:\n",
    "    print(\"Mount point /mnt/operations not found or already unmounted.\")\n",
    "\n",
    "configs = {\n",
    "    \"fs.azure.account.auth.type\": \"OAuth\",\n",
    "    \"fs.azure.account.oauth.provider.type\": \"org.apache.hadoop.fs.azurebfs.oauth2.ClientCredsTokenProvider\",\n",
    "    \"fs.azure.account.oauth2.client.id\": \"\",\n",
    "    \"fs.azure.account.oauth2.client.secret\": '',\n",
    "    \"fs.azure.account.oauth2.client.endpoint\": \"https://login.microsoftonline.com/d79345a5-6202-4e21-a853-6510ccafa499/oauth2/token\"\n",
    "}\n",
    "\n",
    "dbutils.fs.mount(\n",
    "    source = \"abfss://operations-data@operationslogistics.dfs.core.windows.net\",\n",
    "    mount_point = \"/mnt/operations\",\n",
    "    extra_configs = configs\n",
    ")"
   ]
  },
  {
   "cell_type": "code",
   "execution_count": 0,
   "metadata": {
    "application/vnd.databricks.v1+cell": {
     "cellMetadata": {
      "byteLimit": 2048000,
      "rowLimit": 10000
     },
     "inputWidgets": {},
     "nuid": "1c6efa35-be0b-4059-af0e-0c733cbce9fa",
     "showTitle": false,
     "title": ""
    }
   },
   "outputs": [
    {
     "output_type": "display_data",
     "data": {
      "text/html": [
       "<style scoped>\n",
       "  .table-result-container {\n",
       "    max-height: 300px;\n",
       "    overflow: auto;\n",
       "  }\n",
       "  table, th, td {\n",
       "    border: 1px solid black;\n",
       "    border-collapse: collapse;\n",
       "  }\n",
       "  th, td {\n",
       "    padding: 5px;\n",
       "  }\n",
       "  th {\n",
       "    text-align: left;\n",
       "  }\n",
       "</style><div class='table-result-container'><table class='table-result'><thead style='background-color: white'><tr><th>path</th><th>name</th><th>size</th><th>modificationTime</th></tr></thead><tbody><tr><td>dbfs:/mnt/operations/raw-data/</td><td>raw-data/</td><td>0</td><td>1725302278000</td></tr><tr><td>dbfs:/mnt/operations/transformed-data/</td><td>transformed-data/</td><td>0</td><td>1725302293000</td></tr></tbody></table></div>"
      ]
     },
     "metadata": {
      "application/vnd.databricks.v1+output": {
       "addedWidgets": {},
       "aggData": [],
       "aggError": "",
       "aggOverflow": false,
       "aggSchema": [],
       "aggSeriesLimitReached": false,
       "aggType": "",
       "arguments": {},
       "columnCustomDisplayInfos": {},
       "data": [
        [
         "dbfs:/mnt/operations/raw-data/",
         "raw-data/",
         0,
         1725302278000
        ],
        [
         "dbfs:/mnt/operations/transformed-data/",
         "transformed-data/",
         0,
         1725302293000
        ]
       ],
       "datasetInfos": [],
       "dbfsResultPath": null,
       "isJsonSchema": true,
       "metadata": {
        "isDbfsCommandResult": false
       },
       "overflow": false,
       "plotOptions": {
        "customPlotOptions": {},
        "displayType": "table",
        "pivotAggregation": null,
        "pivotColumns": null,
        "xColumns": null,
        "yColumns": null
       },
       "removedWidgets": [],
       "schema": [
        {
         "metadata": "{}",
         "name": "path",
         "type": "\"string\""
        },
        {
         "metadata": "{}",
         "name": "name",
         "type": "\"string\""
        },
        {
         "metadata": "{}",
         "name": "size",
         "type": "\"long\""
        },
        {
         "metadata": "{}",
         "name": "modificationTime",
         "type": "\"long\""
        }
       ],
       "type": "table"
      }
     },
     "output_type": "display_data"
    }
   ],
   "source": [
    "%fs\n",
    "ls \"/mnt/operations\""
   ]
  },
  {
   "cell_type": "code",
   "execution_count": 0,
   "metadata": {
    "application/vnd.databricks.v1+cell": {
     "cellMetadata": {
      "byteLimit": 2048000,
      "rowLimit": 10000
     },
     "inputWidgets": {},
     "nuid": "acc32107-a2ee-42e4-a6ce-4b0ae9209552",
     "showTitle": false,
     "title": ""
    }
   },
   "outputs": [
    {
     "output_type": "execute_result",
     "data": {
      "text/html": [
       "\n",
       "            <div>\n",
       "                <p><b>SparkSession - hive</b></p>\n",
       "                \n",
       "        <div>\n",
       "            <p><b>SparkContext</b></p>\n",
       "\n",
       "            <p><a href=\"/?o=2426663375585078#setting/sparkui/0903-175244-duv4u0ze/driver-561322341786187972\">Spark UI</a></p>\n",
       "\n",
       "            <dl>\n",
       "              <dt>Version</dt>\n",
       "                <dd><code>v3.5.0</code></dd>\n",
       "              <dt>Master</dt>\n",
       "                <dd><code>local[*, 4]</code></dd>\n",
       "              <dt>AppName</dt>\n",
       "                <dd><code>Databricks Shell</code></dd>\n",
       "            </dl>\n",
       "        </div>\n",
       "        \n",
       "            </div>\n",
       "        "
      ],
      "text/plain": [
       "<pyspark.sql.session.SparkSession at 0x7fede1cf6200>"
      ]
     },
     "execution_count": 11,
     "metadata": {},
     "output_type": "execute_result"
    }
   ],
   "source": [
    "spark"
   ]
  },
  {
   "cell_type": "code",
   "execution_count": 0,
   "metadata": {
    "application/vnd.databricks.v1+cell": {
     "cellMetadata": {
      "byteLimit": 2048000,
      "rowLimit": 10000
     },
     "inputWidgets": {},
     "nuid": "3ef44192-715f-4ed0-9c24-7015de0c7553",
     "showTitle": false,
     "title": ""
    }
   },
   "outputs": [],
   "source": [
    "inventory_supplier_performance = spark.read.format(\"csv\").option(\"header\",\"true\").option(\"inferSchema\",\"true\").load(\"/mnt/operations/raw-data/inventory_supplier_performance.csv\")\n",
    "logistics_shipping = spark.read.format(\"csv\").option(\"header\",\"true\").option(\"inferSchema\",\"true\").load(\"/mnt/operations/raw-data/logistics_shipping.csv\")\n",
    "production_quality_control = spark.read.format(\"csv\").option(\"header\",\"true\").option(\"inferSchema\",\"true\").load(\"/mnt/operations/raw-data/production_quality_control.csv\")\n",
    "workforce_productivity = spark.read.format(\"csv\").option(\"header\",\"true\").option(\"inferSchema\",\"true\").load(\"/mnt/operations/raw-data/workforce_productivity.csv\")"
   ]
  },
  {
   "cell_type": "code",
   "execution_count": 0,
   "metadata": {
    "application/vnd.databricks.v1+cell": {
     "cellMetadata": {
      "byteLimit": 2048000,
      "rowLimit": 10000
     },
     "inputWidgets": {},
     "nuid": "7774139c-635a-41a4-852e-357d34ab8c4a",
     "showTitle": false,
     "title": ""
    }
   },
   "outputs": [
    {
     "output_type": "stream",
     "name": "stdout",
     "output_type": "stream",
     "text": [
      "+------------+----------+---------------+----------------------+--------------------+\n|   record_id|      date|inventory_level|order_fulfillment_rate|supplier_performance|\n+------------+----------+---------------+----------------------+--------------------+\n|REC-95822412|2020-08-12|           7370|                 96.95|               67.34|\n|REC-13356886|2019-11-18|           2533|                 87.73|               67.34|\n|REC-42868828|2022-01-03|           1367|                 93.89|               61.86|\n|REC-28728463|2021-10-01|            875|                 85.52|               96.37|\n|REC-83197857|2021-07-26|           7729|                 87.94|               61.81|\n+------------+----------+---------------+----------------------+--------------------+\nonly showing top 5 rows\n\n"
     ]
    }
   ],
   "source": [
    "inventory_supplier_performance.show(5)"
   ]
  },
  {
   "cell_type": "code",
   "execution_count": 0,
   "metadata": {
    "application/vnd.databricks.v1+cell": {
     "cellMetadata": {
      "byteLimit": 2048000,
      "rowLimit": 10000
     },
     "inputWidgets": {},
     "nuid": "e928bb77-a5d3-4db4-98cf-f254b6578ad7",
     "showTitle": false,
     "title": ""
    }
   },
   "outputs": [
    {
     "output_type": "stream",
     "name": "stdout",
     "output_type": "stream",
     "text": [
      "root\n |-- record_id: string (nullable = true)\n |-- date: date (nullable = true)\n |-- inventory_level: integer (nullable = true)\n |-- order_fulfillment_rate: double (nullable = true)\n |-- supplier_performance: double (nullable = true)\n\n"
     ]
    }
   ],
   "source": [
    "inventory_supplier_performance.printSchema()"
   ]
  },
  {
   "cell_type": "code",
   "execution_count": 0,
   "metadata": {
    "application/vnd.databricks.v1+cell": {
     "cellMetadata": {
      "byteLimit": 2048000,
      "rowLimit": 10000
     },
     "inputWidgets": {},
     "nuid": "ce7ad7c5-eb95-4a6c-a61a-ca95fcfd0aba",
     "showTitle": false,
     "title": ""
    }
   },
   "outputs": [
    {
     "output_type": "stream",
     "name": "stdout",
     "output_type": "stream",
     "text": [
      "+------------+----------+-------+-------------------+------------------+-----------------+--------------------+\n|   record_id|      date|returns|customer_complaints|shipping_time_days|delivery_accuracy|transportation_costs|\n+------------+----------+-------+-------------------+------------------+-----------------+--------------------+\n|REC-95822412|2020-08-12|     74|                 23|               3.0|            91.43|              6543.8|\n|REC-13356886|2019-11-18|     58|                 41|              1.28|            99.74|             2404.44|\n|REC-42868828|2022-01-03|     59|                 13|              5.85|            93.05|             1066.95|\n|REC-28728463|2021-10-01|      3|                 28|              6.82|            97.75|             9401.04|\n|REC-83197857|2021-07-26|     25|                 24|              2.69|            95.43|             1495.15|\n+------------+----------+-------+-------------------+------------------+-----------------+--------------------+\nonly showing top 5 rows\n\n"
     ]
    }
   ],
   "source": [
    "logistics_shipping.show(5)"
   ]
  },
  {
   "cell_type": "code",
   "execution_count": 0,
   "metadata": {
    "application/vnd.databricks.v1+cell": {
     "cellMetadata": {
      "byteLimit": 2048000,
      "rowLimit": 10000
     },
     "inputWidgets": {},
     "nuid": "c8a13aa5-7f5a-4b9d-99b9-c41d8ecfd8f4",
     "showTitle": false,
     "title": ""
    }
   },
   "outputs": [
    {
     "output_type": "stream",
     "name": "stdout",
     "output_type": "stream",
     "text": [
      "root\n |-- record_id: string (nullable = true)\n |-- date: date (nullable = true)\n |-- returns: integer (nullable = true)\n |-- customer_complaints: integer (nullable = true)\n |-- shipping_time_days: double (nullable = true)\n |-- delivery_accuracy: double (nullable = true)\n |-- transportation_costs: double (nullable = true)\n\n"
     ]
    }
   ],
   "source": [
    "logistics_shipping.printSchema()"
   ]
  },
  {
   "cell_type": "code",
   "execution_count": 0,
   "metadata": {
    "application/vnd.databricks.v1+cell": {
     "cellMetadata": {
      "byteLimit": 2048000,
      "rowLimit": 10000
     },
     "inputWidgets": {},
     "nuid": "ad053761-47d5-4b24-8361-88947b3a5725",
     "showTitle": false,
     "title": ""
    }
   },
   "outputs": [
    {
     "output_type": "stream",
     "name": "stdout",
     "output_type": "stream",
     "text": [
      "+------------+----------+--------------------------+--------------+----------+-----------+\n|   record_id|      date|production_line_efficiency|downtime_hours|yield_rate|defect_rate|\n+------------+----------+--------------------------+--------------+----------+-----------+\n|REC-95822412|2020-08-12|                     93.39|          5.97|     88.92|        0.5|\n|REC-13356886|2019-11-18|                     79.13|          5.25|     88.64|       1.46|\n|REC-42868828|2022-01-03|                     88.23|          1.71|      81.3|       4.74|\n|REC-28728463|2021-10-01|                     77.76|          6.63|     86.23|        2.6|\n|REC-83197857|2021-07-26|                     79.76|          3.89|     85.43|       4.14|\n+------------+----------+--------------------------+--------------+----------+-----------+\nonly showing top 5 rows\n\n"
     ]
    }
   ],
   "source": [
    "production_quality_control.show(5)"
   ]
  },
  {
   "cell_type": "code",
   "execution_count": 0,
   "metadata": {
    "application/vnd.databricks.v1+cell": {
     "cellMetadata": {
      "byteLimit": 2048000,
      "rowLimit": 10000
     },
     "inputWidgets": {},
     "nuid": "f249ab5d-858f-4b6a-a142-61ec95c4f014",
     "showTitle": false,
     "title": ""
    }
   },
   "outputs": [
    {
     "output_type": "stream",
     "name": "stdout",
     "output_type": "stream",
     "text": [
      "root\n |-- record_id: string (nullable = true)\n |-- date: date (nullable = true)\n |-- production_line_efficiency: double (nullable = true)\n |-- downtime_hours: double (nullable = true)\n |-- yield_rate: double (nullable = true)\n |-- defect_rate: double (nullable = true)\n\n"
     ]
    }
   ],
   "source": [
    "production_quality_control.printSchema()"
   ]
  },
  {
   "cell_type": "code",
   "execution_count": 0,
   "metadata": {
    "application/vnd.databricks.v1+cell": {
     "cellMetadata": {
      "byteLimit": 2048000,
      "rowLimit": 10000
     },
     "inputWidgets": {},
     "nuid": "5f7aa284-3829-4726-9b31-5ab0cea7a488",
     "showTitle": false,
     "title": ""
    }
   },
   "outputs": [
    {
     "output_type": "stream",
     "name": "stdout",
     "output_type": "stream",
     "text": [
      "+------------+----------+-----------+---------------------+-----------+------------+\n|   record_id|      date|employee_id|employee_productivity|labor_costs|hours_worked|\n+------------+----------+-----------+---------------------+-----------+------------+\n|REC-95822412|2020-08-12|   EMP-2824|                63.38|   92199.88|       57.54|\n|REC-13356886|2019-11-18|   EMP-5506|                65.44|    81838.6|        35.3|\n|REC-42868828|2022-01-03|   EMP-4657|               101.05|   64015.25|       24.88|\n|REC-28728463|2021-10-01|   EMP-2679|               113.69|    79790.0|       56.87|\n|REC-83197857|2021-07-26|   EMP-2424|               108.13|   27455.06|       59.48|\n+------------+----------+-----------+---------------------+-----------+------------+\nonly showing top 5 rows\n\n"
     ]
    }
   ],
   "source": [
    "workforce_productivity.show(5)"
   ]
  },
  {
   "cell_type": "code",
   "execution_count": 0,
   "metadata": {
    "application/vnd.databricks.v1+cell": {
     "cellMetadata": {
      "byteLimit": 2048000,
      "rowLimit": 10000
     },
     "inputWidgets": {},
     "nuid": "5747d150-65a7-4bcb-a089-6cf1f77d4306",
     "showTitle": false,
     "title": ""
    }
   },
   "outputs": [
    {
     "output_type": "stream",
     "name": "stdout",
     "output_type": "stream",
     "text": [
      "root\n |-- record_id: string (nullable = true)\n |-- date: date (nullable = true)\n |-- employee_id: string (nullable = true)\n |-- employee_productivity: double (nullable = true)\n |-- labor_costs: double (nullable = true)\n |-- hours_worked: double (nullable = true)\n\n"
     ]
    }
   ],
   "source": [
    "workforce_productivity.printSchema()"
   ]
  },
  {
   "cell_type": "code",
   "execution_count": 0,
   "metadata": {
    "application/vnd.databricks.v1+cell": {
     "cellMetadata": {
      "byteLimit": 2048000,
      "rowLimit": 10000
     },
     "inputWidgets": {},
     "nuid": "2e5666a2-186b-4776-a89d-8b2dad1e66b8",
     "showTitle": false,
     "title": ""
    }
   },
   "outputs": [
    {
     "output_type": "stream",
     "name": "stdout",
     "output_type": "stream",
     "text": [
      "+---------+----+---------------+----------------------+--------------------+\n|record_id|date|inventory_level|order_fulfillment_rate|supplier_performance|\n+---------+----+---------------+----------------------+--------------------+\n|        0|   0|              0|                     0|                   0|\n+---------+----+---------------+----------------------+--------------------+\n\n+---------+----+-------+-------------------+------------------+-----------------+--------------------+\n|record_id|date|returns|customer_complaints|shipping_time_days|delivery_accuracy|transportation_costs|\n+---------+----+-------+-------------------+------------------+-----------------+--------------------+\n|        0|   0|      0|                  0|                 0|                0|                   0|\n+---------+----+-------+-------------------+------------------+-----------------+--------------------+\n\n+---------+----+--------------------------+--------------+----------+-----------+\n|record_id|date|production_line_efficiency|downtime_hours|yield_rate|defect_rate|\n+---------+----+--------------------------+--------------+----------+-----------+\n|        0|   0|                         0|             0|         0|          0|\n+---------+----+--------------------------+--------------+----------+-----------+\n\n+---------+----+-----------+---------------------+-----------+------------+\n|record_id|date|employee_id|employee_productivity|labor_costs|hours_worked|\n+---------+----+-----------+---------------------+-----------+------------+\n|        0|   0|          0|                    0|          0|           0|\n+---------+----+-----------+---------------------+-----------+------------+\n\n"
     ]
    }
   ],
   "source": [
    "inventory_supplier_performance.select([count(when(col(c).isNull(), c)).alias(c) for c in inventory_supplier_performance.columns]).show()\n",
    "logistics_shipping.select([count(when(col(c).isNull(), c)).alias(c) for c in logistics_shipping.columns]).show()\n",
    "production_quality_control.select([count(when(col(c).isNull(), c)).alias(c) for c in production_quality_control.columns]).show()\n",
    "workforce_productivity.select([count(when(col(c).isNull(), c)).alias(c) for c in workforce_productivity.columns]).show()\n",
    "\n",
    "inventory_supplier_performance = inventory_supplier_performance.dropDuplicates()"
   ]
  },
  {
   "cell_type": "code",
   "execution_count": 0,
   "metadata": {
    "application/vnd.databricks.v1+cell": {
     "cellMetadata": {
      "byteLimit": 2048000,
      "rowLimit": 10000
     },
     "inputWidgets": {},
     "nuid": "d10b5b7a-ac41-4153-9b7d-4d5ec2af9f2f",
     "showTitle": false,
     "title": ""
    }
   },
   "outputs": [],
   "source": [
    "inventory_supplier_performance = inventory_supplier_performance.withColumn(\n",
    "    \"inventory_to_fulfillment_ratio\", \n",
    "    col(\"inventory_level\") / col(\"order_fulfillment_rate\")\n",
    ")\n",
    "\n",
    "workforce_productivity = workforce_productivity.withColumn(\n",
    "    \"performance_index\", \n",
    "    (col(\"employee_productivity\") - col(\"labor_costs\") / col(\"hours_worked\"))\n",
    ")\n"
   ]
  },
  {
   "cell_type": "code",
   "execution_count": 0,
   "metadata": {
    "application/vnd.databricks.v1+cell": {
     "cellMetadata": {
      "byteLimit": 2048000,
      "rowLimit": 10000
     },
     "inputWidgets": {},
     "nuid": "d7ed5025-7bde-48cf-bb6f-a58efaee9865",
     "showTitle": false,
     "title": ""
    }
   },
   "outputs": [
    {
     "output_type": "stream",
     "name": "stdout",
     "output_type": "stream",
     "text": [
      "+------------+----------+---------------+----------------------+--------------------+------------------------------+\n|   record_id|      date|inventory_level|order_fulfillment_rate|supplier_performance|inventory_to_fulfillment_ratio|\n+------------+----------+---------------+----------------------+--------------------+------------------------------+\n|REC-80138498|2022-06-17|           5895|                  86.3|               69.47|              68.3082271147161|\n|REC-92533595|2021-02-25|           8500|                 90.64|               95.88|             93.77758164165931|\n|REC-95110541|2023-03-29|           8796|                 97.71|               94.48|             90.02149217070925|\n|REC-41426254|2021-01-28|           4657|                  91.4|                74.6|             50.95185995623632|\n|REC-55876720|2022-09-27|           2154|                 92.23|                97.7|             23.35465683617044|\n+------------+----------+---------------+----------------------+--------------------+------------------------------+\nonly showing top 5 rows\n\n+------------+----------+-----------+---------------------+-----------+------------+-------------------+\n|   record_id|      date|employee_id|employee_productivity|labor_costs|hours_worked|  performance_index|\n+------------+----------+-----------+---------------------+-----------+------------+-------------------+\n|REC-95822412|2020-08-12|   EMP-2824|                63.38|   92199.88|       57.54|-1538.9814876607577|\n|REC-13356886|2019-11-18|   EMP-5506|                65.44|    81838.6|        35.3| -2252.933937677054|\n|REC-42868828|2022-01-03|   EMP-4657|               101.05|   64015.25|       24.88| -2471.910209003215|\n|REC-28728463|2021-10-01|   EMP-2679|               113.69|    79790.0|       56.87|-1289.3344417091612|\n|REC-83197857|2021-07-26|   EMP-2424|               108.13|   27455.06|       59.48| -353.4547343644923|\n+------------+----------+-----------+---------------------+-----------+------------+-------------------+\nonly showing top 5 rows\n\n"
     ]
    }
   ],
   "source": [
    "inventory_supplier_performance.show(5)\n",
    "workforce_productivity.show(5)"
   ]
  },
  {
   "cell_type": "code",
   "execution_count": 0,
   "metadata": {
    "application/vnd.databricks.v1+cell": {
     "cellMetadata": {
      "byteLimit": 2048000,
      "rowLimit": 10000
     },
     "inputWidgets": {},
     "nuid": "6e9ba618-fe45-4709-ab62-6d19085dac1e",
     "showTitle": false,
     "title": ""
    }
   },
   "outputs": [],
   "source": [
    "inventory_supplier_performance.write.format(\"csv\").option(\"header\", \"true\").mode(\"overwrite\").save(\"/mnt/operations/transformed-data/inventory_supplier_performance_transformed\")\n",
    "logistics_shipping.write.format(\"csv\").option(\"header\", \"true\").mode(\"overwrite\").save(\"/mnt/operations/transformed-data/logistics_shipping_transformed\")\n",
    "production_quality_control.write.format(\"csv\").option(\"header\", \"true\").mode(\"overwrite\").save(\"/mnt/operations/transformed-data/production_quality_control_transformed\")\n",
    "workforce_productivity.write.format(\"csv\").option(\"header\", \"true\").mode(\"overwrite\").save(\"/mnt/operations/transformed-data/workforce_productivity_transformed\")"
   ]
  }
 ],
 "metadata": {
  "application/vnd.databricks.v1+notebook": {
   "dashboards": [],
   "environmentMetadata": {
    "base_environment": "",
    "client": "1"
   },
   "language": "python",
   "notebookMetadata": {
    "mostRecentlyExecutedCommandWithImplicitDF": {
     "commandId": 1717107231961425,
     "dataframes": [
      "_sqldf"
     ]
    },
    "pythonIndentUnit": 4
   },
   "notebookName": "Operations Transformation",
   "widgets": {}
  }
 },
 "nbformat": 4,
 "nbformat_minor": 0
}
